{
 "cells": [
  {
   "cell_type": "code",
   "execution_count": null,
   "id": "8838cf6e-65b9-4e72-8eac-e0ff82c532f1",
   "metadata": {},
   "outputs": [],
   "source": [
    "# SVM  (Suppoort Vector Machine)\n",
    "# De incercat si la proiect, de obicei dau cel mai bine, dupa retele 1\n",
    "# De invatat metode kernel\n",
    "\n",
    "# La svm trebuie sa gasim ceva liniar, 1D un punct, 2D o dreapta, 3D un plan, 4D un hiperplan\n",
    "#  Exista un parametru numit kernel, daca este liniar, e ce am discutat\n",
    "\n",
    "# Daca punctele nu sunt liniar separabile, atunci se poate face o scufundare intr-un spatiu superior, daca kernel e setat la \"rbf\", folosind o functie kernel care duce un punct\n",
    "# f:R^2 -> R^3 de exemplu\n",
    "\n",
    "\n",
    "# la SVM variam intre rbf si linear, intre C mic si C mare \n",
    "\n",
    "# pentru mai multe clase:\n",
    "# 1 vs 1 -> n(n-1)/2 separatoare\n",
    "#  1 vs all (1 vs rest) -> n separatoare\n",
    "\n",
    "# Matrici kernel\n",
    "\n",
    "\n",
    "# Normalizarea datelor, intotdeauna este bine sa o facem, chiar daca nu este necesar\n",
    "# De exepmlu, la pixeli putem transforma scara 0 -> 255, in 0 -> 1\n",
    "\n",
    "# Alt exemplu, a binariza o imagine in functie de un threshold\n",
    "# Tipuri de preprocesare:\n",
    "# - standardizare\n",
    "\n",
    "\n",
    "# Xtest - mean(Xtrain)\n",
    "# ____________________\n",
    "#        std\n",
    "\n",
    "\n",
    "# bag of words -> vector de frecventa pe cuvinte \n"
   ]
  },
  {
   "cell_type": "code",
   "execution_count": null,
   "id": "4a0a5f59-da2a-4938-b4e9-4e938b5f3b19",
   "metadata": {},
   "outputs": [],
   "source": [
    "# class imbalance -> cand in train sunt ff multe dintr-o clasa si putine din altele\n",
    "# recall si precizie\n",
    "# f1 e un trade-off intre precizie si recall\n",
    "# precizie se uita la false pozitives, recall la false negatives"
   ]
  },
  {
   "cell_type": "code",
   "execution_count": 1,
   "id": "fadb0c3c-6b68-4cb7-a449-848d1dd2a943",
   "metadata": {},
   "outputs": [],
   "source": [
    "import numpy as np\n",
    "\n",
    "training_data = np.load(\"data/training_sentences.npy\", allow_pickle = True)\n",
    "training_labels = np.load(\"data/training_labels.npy\")\n",
    "\n",
    "\n",
    "test_data = np.load(\"data/test_sentences.npy\", allow_pickle = True)\n",
    "test_labels = np.load(\"data/test_labels.npy\")"
   ]
  },
  {
   "cell_type": "code",
   "execution_count": 2,
   "id": "8772a882-198a-4cfe-9615-ac7fa5a1bbc1",
   "metadata": {},
   "outputs": [
    {
     "name": "stdout",
     "output_type": "stream",
     "text": [
      "[list(['Probably', 'not', 'still', 'going', 'over', 'some', 'stuff', 'here'])\n",
      " list(['I', 'HAVE', 'A', 'DATE', 'ON', 'SUNDAY', 'WITH', 'WILL'])\n",
      " list(['Thanks', '4', 'your', 'continued', 'support', 'Your', 'question', 'this', 'week', 'will', 'enter', 'u', 'in2', 'our', 'draw', '4', 'Â£100', 'cash', 'Name', 'the', 'NEW', 'US', 'President', 'txt', 'ans', 'to', '80082'])\n",
      " ...\n",
      " list(['OH', 'FUCK', 'JUSWOKE', 'UP', 'IN', 'A', 'BED', 'ON', 'A', 'BOATIN', 'THE', 'DOCKS', 'SLEPT', 'WID', '25', 'YEAR', 'OLD', 'SPINOUT', 'GIV', 'U', 'DA', 'GOSSIP', 'L8R', 'XXX'])\n",
      " list(['NOT', 'MUCH', 'NO', 'FIGHTS', 'IT', 'WAS', 'A', 'GOOD', 'NITE'])\n",
      " list(['Did', 'he', 'just', 'say', 'somebody', 'is', 'named', 'tampa'])]\n"
     ]
    }
   ],
   "source": [
    "print(training_data)"
   ]
  },
  {
   "cell_type": "code",
   "execution_count": null,
   "id": "d9930d19-a3d0-4a06-8d25-c159d8330656",
   "metadata": {},
   "outputs": [],
   "source": [
    "# de avut functia accuracy_score la colocviu\n",
    "# normalizare neaparat si pe train si pe test\n",
    "# ambele fitted PE TRAIN "
   ]
  }
 ],
 "metadata": {
  "kernelspec": {
   "display_name": "Python 3 (ipykernel)",
   "language": "python",
   "name": "python3"
  },
  "language_info": {
   "codemirror_mode": {
    "name": "ipython",
    "version": 3
   },
   "file_extension": ".py",
   "mimetype": "text/x-python",
   "name": "python",
   "nbconvert_exporter": "python",
   "pygments_lexer": "ipython3",
   "version": "3.10.9"
  }
 },
 "nbformat": 4,
 "nbformat_minor": 5
}
