{
 "cells": [
  {
   "cell_type": "code",
   "execution_count": 1,
   "id": "3a37c576-c1be-40c0-8cb2-daf5363fd581",
   "metadata": {},
   "outputs": [],
   "source": [
    "# Perceptronul\n",
    "# fw,b(x) = F act (<x,w> + b)\n",
    "\n",
    "# fact = sign (la perceptron)\n",
    "# la regresii, w si b trebuiau invatate\n",
    "\n",
    "# loss = (yhat - y)^2/2\n",
    "\n",
    "\n",
    "# Gradient descent -> de tip iterativ -> un numar pe pasi (epoci) maxim 100\n",
    "# Vreau sa aflu w si b, le dau valori initiale 0\n",
    "\n",
    "# antropie ? Ceva la proiect\n",
    "\n",
    "\n",
    "# rata de invatare:\n",
    "# w=w-class/Tw *lr\n",
    "# lr = 10^-5, 10^-4, 10^-3, 10^-2\n",
    "# incercam multe lr-uri ca sa vedem care e mai bun\n",
    " \n"
   ]
  },
  {
   "cell_type": "code",
   "execution_count": null,
   "id": "e34632f7-a636-4e71-996d-b90c78b872dc",
   "metadata": {},
   "outputs": [],
   "source": []
  },
  {
   "cell_type": "code",
   "execution_count": null,
   "id": "e7db00dc-31d5-4365-8935-62275698be33",
   "metadata": {},
   "outputs": [],
   "source": []
  },
  {
   "cell_type": "code",
   "execution_count": null,
   "id": "21ab031f-32af-4147-aae2-bae9f89e2f21",
   "metadata": {},
   "outputs": [],
   "source": []
  }
 ],
 "metadata": {
  "kernelspec": {
   "display_name": "Python 3 (ipykernel)",
   "language": "python",
   "name": "python3"
  },
  "language_info": {
   "codemirror_mode": {
    "name": "ipython",
    "version": 3
   },
   "file_extension": ".py",
   "mimetype": "text/x-python",
   "name": "python",
   "nbconvert_exporter": "python",
   "pygments_lexer": "ipython3",
   "version": "3.10.9"
  }
 },
 "nbformat": 4,
 "nbformat_minor": 5
}
