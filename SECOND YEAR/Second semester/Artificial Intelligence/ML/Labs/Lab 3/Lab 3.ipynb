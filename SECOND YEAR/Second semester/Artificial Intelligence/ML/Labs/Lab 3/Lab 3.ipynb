{
 "cells": [
  {
   "cell_type": "code",
   "execution_count": 1,
   "id": "a56a53f9-f54b-47ae-a44d-d9ed20fdb8db",
   "metadata": {},
   "outputs": [],
   "source": [
    "import numpy as np\n",
    "import matplotlib.pyplot as plt"
   ]
  },
  {
   "cell_type": "code",
   "execution_count": 2,
   "id": "0d108c00-7396-4bde-ad08-69ae66fdd840",
   "metadata": {},
   "outputs": [],
   "source": [
    "def accuracy_score(y_true, y_pred):\n",
    "    return (y_true == y_pred).mean()"
   ]
  },
  {
   "cell_type": "code",
   "execution_count": 3,
   "id": "46d15000-284b-4aec-b281-d0c7b69aa9c8",
   "metadata": {},
   "outputs": [],
   "source": [
    "class Knn_classifier:\n",
    "    \n",
    "    def __init__(self, train_images, train_labels):\n",
    "        self.train_images = train_images\n",
    "        self.train_labels = train_labels\n",
    "    \n",
    "    def classify_image(self, test_image, num_neighbors = 3, metric = 'l2'): \n",
    "     \n",
    "        if(metric == 'l2'):   \n",
    "            distances = np.sqrt(np.sum((self.train_images - test_image) ** 2, axis = 1))\n",
    "        elif(metric == 'l1'):\n",
    "            distances = np.sum(abs(self.train_images - test_image), axis = 1)\n",
    "        else:\n",
    "            print('Error! Metric {} is not defined!'.format(metric))\n",
    "            \n",
    "        sort_index = np.argsort(distances)\n",
    "        sort_index = sort_index[:num_neighbors]\n",
    "        nearest_labels = self.train_labels[sort_index]\n",
    "        histc = np.bincount(nearest_labels)\n",
    "        \n",
    "        return np.argmax(histc)\n",
    "    \n",
    "              \n",
    "    def classify_images(self, test_images, num_neighbors = 3, metric = 'l2'):\n",
    "        num_test_images = test_images.shape[0] \n",
    "        predicted_labels = np.zeros((num_test_images))\n",
    "        \n",
    "        for i in range(num_test_images): \n",
    "            predicted_labels[i] = self.classify_image(test_images[i, :], num_neighbors = num_neighbors, metric = metric)\n",
    "        \n",
    "        return predicted_labels"
   ]
  },
  {
   "cell_type": "code",
   "execution_count": 4,
   "id": "fa26db7d-9d98-4aa8-a1c0-c526e979ee23",
   "metadata": {},
   "outputs": [],
   "source": [
    "train_images = np.loadtxt('Data/data/train_images.txt')\n",
    "train_labels = np.loadtxt('Data/data/train_labels.txt')\n",
    "train_labels = train_labels.astype(int)\n",
    "\n",
    "test_images = np.loadtxt('Data/data/test_images.txt')\n",
    "test_labels = np.loadtxt('Data/data/test_labels.txt') \n",
    "test_labels = test_labels.astype(int)"
   ]
  },
  {
   "cell_type": "code",
   "execution_count": 12,
   "id": "9680cffb-37b7-46de-8b82-eb37e2ba5b02",
   "metadata": {},
   "outputs": [],
   "source": [
    "classifier = Knn_classifier(train_images, train_labels)"
   ]
  },
  {
   "cell_type": "code",
   "execution_count": 13,
   "id": "b3232529-6f5d-435e-a5e5-103a5664b08b",
   "metadata": {},
   "outputs": [],
   "source": [
    "predicted_labels = classifier.classify_images(test_images, 3, 'l2')"
   ]
  },
  {
   "cell_type": "code",
   "execution_count": 14,
   "id": "d1204d65-f458-489f-bd03-a00d500fcef3",
   "metadata": {},
   "outputs": [],
   "source": [
    "accuracy = accuracy_score(test_labels, predicted_labels)"
   ]
  },
  {
   "cell_type": "code",
   "execution_count": 15,
   "id": "9496e325-b385-4ee0-a618-eda8db0fca3e",
   "metadata": {},
   "outputs": [
    {
     "name": "stdout",
     "output_type": "stream",
     "text": [
      "0.898\n"
     ]
    }
   ],
   "source": [
    "print(accuracy)"
   ]
  },
  {
   "cell_type": "code",
   "execution_count": 16,
   "id": "3d38c669-fd21-4ca4-b47f-b82a193d4536",
   "metadata": {},
   "outputs": [
    {
     "name": "stdout",
     "output_type": "stream",
     "text": [
      "k: 1, accuracy: 0.884\n",
      "k: 3, accuracy: 0.898\n",
      "k: 5, accuracy: 0.896\n",
      "k: 7, accuracy: 0.88\n",
      "k: 9, accuracy: 0.88\n",
      "k: 11, accuracy: 0.872\n"
     ]
    }
   ],
   "source": [
    "k_list = [1,3,5,7,9,11]\n",
    "l2_acc = []\n",
    "for k in k_list:\n",
    "    classifier = Knn_classifier(train_images, train_labels)\n",
    "    predicted_labels = classifier.classify_images(test_images, k, 'l2')\n",
    "    accuracy = accuracy_score(test_labels, predicted_labels)\n",
    "    l2_acc.append(accuracy)\n",
    "    print(\"k: {}, accuracy: {}\".format(k, accuracy))\n",
    "    \n",
    "l2_acc = np.array(l2_acc)\n",
    "np.savetxt('l2_acc.txt', l2_acc)"
   ]
  },
  {
   "cell_type": "code",
   "execution_count": 17,
   "id": "fa36d44c-2f6e-4ad1-8ff1-16bc4cdb08e3",
   "metadata": {},
   "outputs": [
    {
     "name": "stdout",
     "output_type": "stream",
     "text": [
      "k: 1, accuracy: 0.88\n",
      "k: 3, accuracy: 0.884\n",
      "k: 5, accuracy: 0.868\n",
      "k: 7, accuracy: 0.864\n",
      "k: 9, accuracy: 0.864\n",
      "k: 11, accuracy: 0.856\n"
     ]
    }
   ],
   "source": [
    "k_list = [1,3,5,7,9,11]\n",
    "l1_acc = []\n",
    "for k in k_list:\n",
    "    classifier = Knn_classifier(train_images, train_labels)\n",
    "    predicted_labels = classifier.classify_images(test_images, k, 'l1')\n",
    "    accuracy = accuracy_score(test_labels, predicted_labels)\n",
    "    print(\"k: {}, accuracy: {}\".format(k, accuracy))\n",
    "    l1_acc.append(accuracy)\n",
    "\n",
    "l1_acc = np.array(l1_acc)\n",
    "np.savetxt('l1_acc.txt', l1_acc)"
   ]
  },
  {
   "cell_type": "code",
   "execution_count": 20,
   "id": "3048dfe5-9c9e-47d9-b2ac-164bb335fb91",
   "metadata": {},
   "outputs": [
    {
     "data": {
      "image/png": "[encoded data removed]",
      "text/plain": [
       "<Figure size 432x288 with 1 Axes>"
      ]
     },
     "metadata": {
      "needs_background": "light"
     },
     "output_type": "display_data"
    }
   ],
   "source": [
    "l1 = np.loadtxt('l1_acc.txt')\n",
    "l2 = np.loadtxt('l2_acc.txt')\n",
    "\n",
    "plt.plot(k_list, l1)\n",
    "plt.plot(k_list, l2)\n",
    "plt.legend(['L1', 'L2'])\n",
    "plt.show()"
   ]
  },
  {
   "cell_type": "code",
   "execution_count": null,
   "id": "3a194c7a-06c1-44f5-9439-eb8c083a96d5",
   "metadata": {},
   "outputs": [],
   "source": []
  }
 ],
 "metadata": {
  "kernelspec": {
   "display_name": "Python 3",
   "language": "python",
   "name": "python3"
  },
  "language_info": {
   "codemirror_mode": {
    "name": "ipython",
    "version": 3
   },
   "file_extension": ".py",
   "mimetype": "text/x-python",
   "name": "python",
   "nbconvert_exporter": "python",
   "pygments_lexer": "ipython3",
   "version": "3.8.8"
  }
 },
 "nbformat": 4,
 "nbformat_minor": 5
}
